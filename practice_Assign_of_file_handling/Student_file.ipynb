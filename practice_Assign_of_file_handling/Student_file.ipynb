{
 "cells": [
  {
   "cell_type": "markdown",
   "id": "90c74215-922f-47d6-9518-321b0e9f9a8b",
   "metadata": {},
   "source": [
    "<h1 allign=\"center\" >Assignment Title:\"Student Notes Manager — A File Handling Practice App\"\n",
    "\n",
    "</h1>"
   ]
  },
  {
   "cell_type": "code",
   "execution_count": null,
   "id": "cf29ec90-ce1e-49f2-a1a3-96cda8b90689",
   "metadata": {},
   "outputs": [],
   "source": [
    "# step-1\n",
    "from datetime import datetime  # To add time & date to notes\n",
    "# step-2\n",
    "# Define function to add a new note in a file from taking user input\n",
    "name = input(\"Enter student name:\")\n",
    "subject = input(\"Enter subject name:\")\n",
    "note = input (\"Enter note:\")\n",
    "timestamp = datetime.now().strftime(\"%y-%m-%d %H:%M:%S\") \n",
    "\n",
    "entry = f\"Name: {name}\\n subject: {subject}\\nNote: {note}\\nTime: {timestamp}\\n {\"-\"*40 + \"\\n\"}\\n\"\n",
    "\n",
    "# Write mode ,create file or replaces existing content\n",
    "with open(\"student_notes.txt\",\"w\") as file:\n",
    "    file.write(entry)\n",
    "print(\"Note saved Successfully.\")\n",
    "\n"
   ]
  },
  {
   "cell_type": "code",
   "execution_count": null,
   "id": "afa30464-9356-4ca1-846a-13e355fb9676",
   "metadata": {},
   "outputs": [],
   "source": [
    "#  Step 2: Function – View Notes\n",
    "def view_notes():\n",
    "    try:\n",
    "        with open(\"student_notes.txt\",\"r\") as file:\n",
    "            content = file.read()\n",
    "            if content.strip()= \"\":\n",
    "                print(\"NO notes found\")\n",
    "            else:\n",
    "                print(\\n====All Notes====)\n",
    "                print(content)\n",
    "    except FileNotFoundError:\n",
    "        print(\"file not found\")\n",
    "        \n",
    "        "
   ]
  },
  {
   "cell_type": "code",
   "execution_count": null,
   "id": "99236668-90f9-4276-95a1-272f749cafbb",
   "metadata": {},
   "outputs": [],
   "source": [
    "# Step 3: Function – Append More Notes\n",
    "def append_note():\n",
    "    name = input(\"Enter student name: \")\n",
    "    subject = input(\"Enter subject: \")\n",
    "    note = input(\"Enter note content: \")\n",
    "    \n",
    "    timestamp = datetime.now().strftime(\"%Y-%m-%d %H:%M:%S\")\n",
    "    entry = f\"Time: {timestamp}\\nName: {name}\\nSubject: {subject}\\nNote: {note}\\n{'-'*40}\\n\"\n",
    "\n",
    "    with open(\"student_notes.txt\", \"a\") as file:\n",
    "        file.write(entry)\n",
    "    print(\"Note added successfully!\")\n",
    "\n"
   ]
  }
 ],
 "metadata": {
  "kernelspec": {
   "display_name": "Python 3 (ipykernel)",
   "language": "python",
   "name": "python3"
  },
  "language_info": {
   "codemirror_mode": {
    "name": "ipython",
    "version": 3
   },
   "file_extension": ".py",
   "mimetype": "text/x-python",
   "name": "python",
   "nbconvert_exporter": "python",
   "pygments_lexer": "ipython3",
   "version": "3.12.4"
  }
 },
 "nbformat": 4,
 "nbformat_minor": 5
}
