{
 "cells": [
  {
   "cell_type": "markdown",
   "id": "de7c1461-c4c6-4213-80ae-ffc68b3b85a6",
   "metadata": {},
   "source": [
    "<h1 alignment=\"center\" <>Assignment-08:Valid Parenthesis</h1>"
   ]
  },
  {
   "cell_type": "code",
   "execution_count": 3,
   "id": "a81ba2ba-79ea-45d7-a246-b68230ba6b79",
   "metadata": {},
   "outputs": [
    {
     "name": "stdout",
     "output_type": "stream",
     "text": [
      "'()' is valid:True\n",
      "'(){}[]' is valid:True\n",
      "'(]' is valid:False\n",
      "'([)]' is valid:False\n",
      "'({[]})' is valid:True\n"
     ]
    }
   ],
   "source": [
    "# Assignment -08 : Valid Parenthesis\n",
    "def is_valid_parenthesis(string):\n",
    "    \"\"\"This function Checks if a string of parenthesis is valid. Args, is string :the input string contains a string of parenthesis.\n",
    "    Returns:\n",
    "    True if the string is valid ,otherwise False.\"\"\"\n",
    "\n",
    "    #-1 create a stack to store open parenthesis.stack is empty list used as temporary basket(stack) to keep open parenthesis untill match with closing one. \n",
    "    stack = []\n",
    "    #-2 create a dictionary to map closing parenthesis to corresponding their opening parenthesis \n",
    "    mapping = {\")\":\"(\",\"}\":\"{\",\"]\":\"[\"}\n",
    "    #-3 Iterate through string,character by character\n",
    "    for char in string:\n",
    "        if char in \"({[\":   #-4 if the character is an opening parenthesis ,push it into stack.\n",
    "            stack.append(char) \n",
    "        elif char in \")}]\":  #-5 if the character is closing parenthesis\n",
    "            #-6 if the stack is empty meaning no corresponing opening parenthesis or the top of stack doesn't match the opening parenthesis \n",
    "            # with this closing one,the string is invalid.\n",
    "\n",
    "            if not stack or stack[-1] != mapping[char]:  # \"not stack\" means if the stack is empty & 'stack[-1]' means, is the top of the stack\n",
    "                                                        # - matching with the current close bracket?\n",
    "                return False                           #- if did not match,'invalid' and return 'False'\n",
    "            #-7 Otherwise, pop the matching opening parenthesis from the stack\n",
    "            stack.pop()                               #-if matche,then pop that parenthesis from stack\n",
    "        #-8 After processing the entire string ,if the stack is empty ,it means all parenthesis were correctly matched and closed.\n",
    "        # if the stack is not empty,some opening parenthesis were left unclosed,making the string invalid.\n",
    "        \n",
    "    return not stack #- 'not stack' means: is stack empty or not .if stack is empty,its means all opening brackets match accurately with closing once, \n",
    "                     #-so that function return 'True',if not stack is not empty its means some brackets remains unmatched,and return Fasle.\n",
    "\n",
    "# Example usage of string and then calling function upon that strings\n",
    "string1 = \"()\"\n",
    "string2 = \"(){}[]\"\n",
    "string3 = \"(]\"\n",
    "string4 = \"([)]\"\n",
    "string5 = \"({[]})\"\n",
    "\n",
    "# calling a function and print result\n",
    "print(f\"'{string1}' is valid:{is_valid_parenthesis(string1)}\")\n",
    "print(f\"'{string2}' is valid:{is_valid_parenthesis(string2)}\")\n",
    "print(f\"'{string3}' is valid:{is_valid_parenthesis(string3)}\")\n",
    "print(f\"'{string4}' is valid:{is_valid_parenthesis(string4)}\")\n",
    "print(f\"'{string5}' is valid:{is_valid_parenthesis(string5)}\")\n",
    "        \n",
    "            "
   ]
  },
  {
   "cell_type": "code",
   "execution_count": null,
   "id": "3ebfdb23-593e-477a-a6ce-2d4ab964cb93",
   "metadata": {},
   "outputs": [],
   "source": []
  },
  {
   "cell_type": "markdown",
   "id": "b3887e61-bcd6-414e-bc66-f929994bf135",
   "metadata": {},
   "source": [
    "<h1 alignmet=\"center\"<>Assignment-9:Climbing Stairs</h1>"
   ]
  },
  {
   "cell_type": "code",
   "execution_count": 7,
   "id": "d0e6b2a8-4769-46aa-ac7c-ffa789178abb",
   "metadata": {},
   "outputs": [
    {
     "name": "stdout",
     "output_type": "stream",
     "text": [
      "Number of ways to climb 2 stairs:2\n",
      "Number of ways to climb 3 stairs:3\n",
      "Number of ways to climb 5 stairs:8\n",
      "Number of ways to climb 10 stairs:89\n"
     ]
    }
   ],
   "source": [
    "def climb_stairs(n):\n",
    "    \"\"\"\n",
    "    Calculates the number of distinct ways to climb to the top of a staircase.\n",
    "\n",
    "    Args:\n",
    "        n: The number of steps in the staircase.\n",
    "\n",
    "    Returns:\n",
    "        The number of distinct ways to climb to the top.\n",
    "    \"\"\"\n",
    "    #-1 if n is 1 or 2 return n directly\n",
    "    if n<=2:\n",
    "        return n\n",
    "    #-2 Initilize base cases for fibonacci like approach\n",
    "    first = 1  # f(1)\n",
    "    second = 2 # f(2)\n",
    "\n",
    "    #-3 Start calculating from 3 to step n\n",
    "    for i in range(3,n+1):\n",
    "        third = first + second  # f(n) = f(n-1) + f(n-2) #-first and second represent previous two Fibonacci values.\n",
    "        first = second         # update f(n-2) to previous f(n-1)\n",
    "        second = third         # update f(n-1) to new f(n)  #-In each iteration, we update them step-by-step so that second always holds the latest result.\n",
    "    #-4 Return the total number of distinct ways\n",
    "    return second   #-At the end, second holds f(n), which is our final answer — that’s why we return it.\"\n",
    "\n",
    "\n",
    "# Example Usage\n",
    "n1 = 2\n",
    "n2 = 3\n",
    "n3 = 5\n",
    "n4 = 10\n",
    "\n",
    "#-4 calling a function and print result\n",
    "print(f\"Number of ways to climb {n1} stairs:{climb_stairs(n1)}\")\n",
    "print(f\"Number of ways to climb {n2} stairs:{climb_stairs(n2)}\")\n",
    "print(f\"Number of ways to climb {n3} stairs:{climb_stairs(n3)}\")\n",
    "print(f\"Number of ways to climb {n4} stairs:{climb_stairs(n4)}\")\n",
    "        \n",
    "    \n",
    "    "
   ]
  },
  {
   "cell_type": "code",
   "execution_count": null,
   "id": "68a32cbb-ee20-4aea-92fe-37b2c75c0110",
   "metadata": {},
   "outputs": [],
   "source": []
  }
 ],
 "metadata": {
  "kernelspec": {
   "display_name": "Python 3 (ipykernel)",
   "language": "python",
   "name": "python3"
  },
  "language_info": {
   "codemirror_mode": {
    "name": "ipython",
    "version": 3
   },
   "file_extension": ".py",
   "mimetype": "text/x-python",
   "name": "python",
   "nbconvert_exporter": "python",
   "pygments_lexer": "ipython3",
   "version": "3.13.3"
  }
 },
 "nbformat": 4,
 "nbformat_minor": 5
}
